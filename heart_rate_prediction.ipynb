{
  "nbformat": 4,
  "nbformat_minor": 0,
  "metadata": {
    "colab": {
      "name": "heart_rate_prediction.ipynb",
      "provenance": [],
      "collapsed_sections": [],
      "include_colab_link": true
    },
    "kernelspec": {
      "display_name": "Python 3",
      "name": "python3"
    }
  },
  "cells": [
    {
      "cell_type": "markdown",
      "metadata": {
        "id": "view-in-github",
        "colab_type": "text"
      },
      "source": [
        "<a href=\"https://colab.research.google.com/github/harikrish2727/heart_stroke/blob/main/heart_rate_prediction.ipynb\" target=\"_parent\"><img src=\"https://colab.research.google.com/assets/colab-badge.svg\" alt=\"Open In Colab\"/></a>"
      ]
    },
    {
      "cell_type": "markdown",
      "metadata": {
        "id": "D5uXFiFkzYjU"
      },
      "source": [
        "**Import Libraries**"
      ]
    },
    {
      "cell_type": "code",
      "metadata": {
        "id": "ChiRG-RUzcPm"
      },
      "source": [
        "import pandas as pd\r\n",
        "import numpy as np\r\n",
        "import matplotlib.pyplot as plt\r\n",
        "import seaborn as sns\r\n",
        "from sklearn.impute import SimpleImputer\r\n",
        "from sklearn.preprocessing import LabelEncoder\r\n",
        "from sklearn.impute import KNNImputer\r\n",
        "from sklearn.model_selection import train_test_split\r\n",
        "from sklearn.preprocessing import StandardScaler\r\n",
        "from sklearn.linear_model import LogisticRegression\r\n",
        "from sklearn.svm import SVC\r\n",
        "from sklearn.neighbors import KNeighborsClassifier\r\n",
        "from sklearn.tree import DecisionTreeClassifier\r\n",
        "from sklearn.ensemble import RandomForestClassifier\r\n",
        "from sklearn.metrics import accuracy_score,confusion_matrix,classification_report\r\n",
        "from sklearn.ensemble import GradientBoostingClassifier\r\n",
        "from xgboost import XGBClassifier\r\n"
      ],
      "execution_count": 1,
      "outputs": []
    },
    {
      "cell_type": "markdown",
      "metadata": {
        "id": "m-iX1kL3zwc0"
      },
      "source": [
        "**Load the dataset**"
      ]
    },
    {
      "cell_type": "code",
      "metadata": {
        "id": "kVRNQYfpzu_j"
      },
      "source": [
        "df = pd.read_csv(\"/content/heart_strokes.csv\")"
      ],
      "execution_count": 2,
      "outputs": []
    },
    {
      "cell_type": "code",
      "metadata": {
        "id": "Y8KgTE_NBz4V"
      },
      "source": [
        "df.drop([\"id\"],axis=1,inplace=True)"
      ],
      "execution_count": 3,
      "outputs": []
    },
    {
      "cell_type": "code",
      "metadata": {
        "colab": {
          "base_uri": "https://localhost:8080/",
          "height": 219
        },
        "id": "IpBqqaPN198I",
        "outputId": "1aa609b8-8e20-40c1-8887-6867d4d6df7c"
      },
      "source": [
        "df.head()"
      ],
      "execution_count": 4,
      "outputs": [
        {
          "output_type": "execute_result",
          "data": {
            "text/html": [
              "<div>\n",
              "<style scoped>\n",
              "    .dataframe tbody tr th:only-of-type {\n",
              "        vertical-align: middle;\n",
              "    }\n",
              "\n",
              "    .dataframe tbody tr th {\n",
              "        vertical-align: top;\n",
              "    }\n",
              "\n",
              "    .dataframe thead th {\n",
              "        text-align: right;\n",
              "    }\n",
              "</style>\n",
              "<table border=\"1\" class=\"dataframe\">\n",
              "  <thead>\n",
              "    <tr style=\"text-align: right;\">\n",
              "      <th></th>\n",
              "      <th>gender</th>\n",
              "      <th>age</th>\n",
              "      <th>hypertension</th>\n",
              "      <th>heart_disease</th>\n",
              "      <th>ever_married</th>\n",
              "      <th>work_type</th>\n",
              "      <th>Residence_type</th>\n",
              "      <th>avg_glucose_level</th>\n",
              "      <th>bmi</th>\n",
              "      <th>smoking_status</th>\n",
              "      <th>stroke</th>\n",
              "    </tr>\n",
              "  </thead>\n",
              "  <tbody>\n",
              "    <tr>\n",
              "      <th>0</th>\n",
              "      <td>Male</td>\n",
              "      <td>3.0</td>\n",
              "      <td>0</td>\n",
              "      <td>0</td>\n",
              "      <td>No</td>\n",
              "      <td>children</td>\n",
              "      <td>Rural</td>\n",
              "      <td>95.12</td>\n",
              "      <td>18.0</td>\n",
              "      <td>NaN</td>\n",
              "      <td>0</td>\n",
              "    </tr>\n",
              "    <tr>\n",
              "      <th>1</th>\n",
              "      <td>Male</td>\n",
              "      <td>58.0</td>\n",
              "      <td>1</td>\n",
              "      <td>0</td>\n",
              "      <td>Yes</td>\n",
              "      <td>Private</td>\n",
              "      <td>Urban</td>\n",
              "      <td>87.96</td>\n",
              "      <td>39.2</td>\n",
              "      <td>never smoked</td>\n",
              "      <td>0</td>\n",
              "    </tr>\n",
              "    <tr>\n",
              "      <th>2</th>\n",
              "      <td>Female</td>\n",
              "      <td>8.0</td>\n",
              "      <td>0</td>\n",
              "      <td>0</td>\n",
              "      <td>No</td>\n",
              "      <td>Private</td>\n",
              "      <td>Urban</td>\n",
              "      <td>110.89</td>\n",
              "      <td>17.6</td>\n",
              "      <td>NaN</td>\n",
              "      <td>0</td>\n",
              "    </tr>\n",
              "    <tr>\n",
              "      <th>3</th>\n",
              "      <td>Female</td>\n",
              "      <td>70.0</td>\n",
              "      <td>0</td>\n",
              "      <td>0</td>\n",
              "      <td>Yes</td>\n",
              "      <td>Private</td>\n",
              "      <td>Rural</td>\n",
              "      <td>69.04</td>\n",
              "      <td>35.9</td>\n",
              "      <td>formerly smoked</td>\n",
              "      <td>0</td>\n",
              "    </tr>\n",
              "    <tr>\n",
              "      <th>4</th>\n",
              "      <td>Male</td>\n",
              "      <td>14.0</td>\n",
              "      <td>0</td>\n",
              "      <td>0</td>\n",
              "      <td>No</td>\n",
              "      <td>Never_worked</td>\n",
              "      <td>Rural</td>\n",
              "      <td>161.28</td>\n",
              "      <td>19.1</td>\n",
              "      <td>NaN</td>\n",
              "      <td>0</td>\n",
              "    </tr>\n",
              "  </tbody>\n",
              "</table>\n",
              "</div>"
            ],
            "text/plain": [
              "   gender   age  hypertension  ...   bmi   smoking_status stroke\n",
              "0    Male   3.0             0  ...  18.0              NaN      0\n",
              "1    Male  58.0             1  ...  39.2     never smoked      0\n",
              "2  Female   8.0             0  ...  17.6              NaN      0\n",
              "3  Female  70.0             0  ...  35.9  formerly smoked      0\n",
              "4    Male  14.0             0  ...  19.1              NaN      0\n",
              "\n",
              "[5 rows x 11 columns]"
            ]
          },
          "metadata": {
            "tags": []
          },
          "execution_count": 4
        }
      ]
    },
    {
      "cell_type": "code",
      "metadata": {
        "colab": {
          "base_uri": "https://localhost:8080/"
        },
        "id": "3WcGb_CtPDhn",
        "outputId": "9f9b7e54-de1e-4c5f-cb41-fc9f68af0dca"
      },
      "source": [
        "df.dtypes"
      ],
      "execution_count": 5,
      "outputs": [
        {
          "output_type": "execute_result",
          "data": {
            "text/plain": [
              "gender                object\n",
              "age                  float64\n",
              "hypertension           int64\n",
              "heart_disease          int64\n",
              "ever_married          object\n",
              "work_type             object\n",
              "Residence_type        object\n",
              "avg_glucose_level    float64\n",
              "bmi                  float64\n",
              "smoking_status        object\n",
              "stroke                 int64\n",
              "dtype: object"
            ]
          },
          "metadata": {
            "tags": []
          },
          "execution_count": 5
        }
      ]
    },
    {
      "cell_type": "code",
      "metadata": {
        "id": "L3h2MvwHxAHp"
      },
      "source": [
        "df_cat = df[[\"gender\",\"ever_married\",\"work_type\",\"Residence_type\",\"smoking_status\"]]  "
      ],
      "execution_count": 6,
      "outputs": []
    },
    {
      "cell_type": "code",
      "metadata": {
        "colab": {
          "base_uri": "https://localhost:8080/",
          "height": 199
        },
        "id": "F1DlKRcwP4hj",
        "outputId": "e233930a-1940-4065-abb7-6dd612624c40"
      },
      "source": [
        "df_cat.head()"
      ],
      "execution_count": 7,
      "outputs": [
        {
          "output_type": "execute_result",
          "data": {
            "text/html": [
              "<div>\n",
              "<style scoped>\n",
              "    .dataframe tbody tr th:only-of-type {\n",
              "        vertical-align: middle;\n",
              "    }\n",
              "\n",
              "    .dataframe tbody tr th {\n",
              "        vertical-align: top;\n",
              "    }\n",
              "\n",
              "    .dataframe thead th {\n",
              "        text-align: right;\n",
              "    }\n",
              "</style>\n",
              "<table border=\"1\" class=\"dataframe\">\n",
              "  <thead>\n",
              "    <tr style=\"text-align: right;\">\n",
              "      <th></th>\n",
              "      <th>gender</th>\n",
              "      <th>ever_married</th>\n",
              "      <th>work_type</th>\n",
              "      <th>Residence_type</th>\n",
              "      <th>smoking_status</th>\n",
              "    </tr>\n",
              "  </thead>\n",
              "  <tbody>\n",
              "    <tr>\n",
              "      <th>0</th>\n",
              "      <td>Male</td>\n",
              "      <td>No</td>\n",
              "      <td>children</td>\n",
              "      <td>Rural</td>\n",
              "      <td>NaN</td>\n",
              "    </tr>\n",
              "    <tr>\n",
              "      <th>1</th>\n",
              "      <td>Male</td>\n",
              "      <td>Yes</td>\n",
              "      <td>Private</td>\n",
              "      <td>Urban</td>\n",
              "      <td>never smoked</td>\n",
              "    </tr>\n",
              "    <tr>\n",
              "      <th>2</th>\n",
              "      <td>Female</td>\n",
              "      <td>No</td>\n",
              "      <td>Private</td>\n",
              "      <td>Urban</td>\n",
              "      <td>NaN</td>\n",
              "    </tr>\n",
              "    <tr>\n",
              "      <th>3</th>\n",
              "      <td>Female</td>\n",
              "      <td>Yes</td>\n",
              "      <td>Private</td>\n",
              "      <td>Rural</td>\n",
              "      <td>formerly smoked</td>\n",
              "    </tr>\n",
              "    <tr>\n",
              "      <th>4</th>\n",
              "      <td>Male</td>\n",
              "      <td>No</td>\n",
              "      <td>Never_worked</td>\n",
              "      <td>Rural</td>\n",
              "      <td>NaN</td>\n",
              "    </tr>\n",
              "  </tbody>\n",
              "</table>\n",
              "</div>"
            ],
            "text/plain": [
              "   gender ever_married     work_type Residence_type   smoking_status\n",
              "0    Male           No      children          Rural              NaN\n",
              "1    Male          Yes       Private          Urban     never smoked\n",
              "2  Female           No       Private          Urban              NaN\n",
              "3  Female          Yes       Private          Rural  formerly smoked\n",
              "4    Male           No  Never_worked          Rural              NaN"
            ]
          },
          "metadata": {
            "tags": []
          },
          "execution_count": 7
        }
      ]
    },
    {
      "cell_type": "code",
      "metadata": {
        "id": "Y6N06IxlQJlp"
      },
      "source": [
        "df_cont = df[[\"age\",\"hypertension\",\"heart_disease\",\"avg_glucose_level\",\"bmi\",\"stroke\"]]"
      ],
      "execution_count": 8,
      "outputs": []
    },
    {
      "cell_type": "code",
      "metadata": {
        "colab": {
          "base_uri": "https://localhost:8080/",
          "height": 199
        },
        "id": "OXYa1LiHQ0BW",
        "outputId": "fbc519b6-d33f-409b-8a62-d947094b015a"
      },
      "source": [
        "df_cont.head()"
      ],
      "execution_count": 9,
      "outputs": [
        {
          "output_type": "execute_result",
          "data": {
            "text/html": [
              "<div>\n",
              "<style scoped>\n",
              "    .dataframe tbody tr th:only-of-type {\n",
              "        vertical-align: middle;\n",
              "    }\n",
              "\n",
              "    .dataframe tbody tr th {\n",
              "        vertical-align: top;\n",
              "    }\n",
              "\n",
              "    .dataframe thead th {\n",
              "        text-align: right;\n",
              "    }\n",
              "</style>\n",
              "<table border=\"1\" class=\"dataframe\">\n",
              "  <thead>\n",
              "    <tr style=\"text-align: right;\">\n",
              "      <th></th>\n",
              "      <th>age</th>\n",
              "      <th>hypertension</th>\n",
              "      <th>heart_disease</th>\n",
              "      <th>avg_glucose_level</th>\n",
              "      <th>bmi</th>\n",
              "      <th>stroke</th>\n",
              "    </tr>\n",
              "  </thead>\n",
              "  <tbody>\n",
              "    <tr>\n",
              "      <th>0</th>\n",
              "      <td>3.0</td>\n",
              "      <td>0</td>\n",
              "      <td>0</td>\n",
              "      <td>95.12</td>\n",
              "      <td>18.0</td>\n",
              "      <td>0</td>\n",
              "    </tr>\n",
              "    <tr>\n",
              "      <th>1</th>\n",
              "      <td>58.0</td>\n",
              "      <td>1</td>\n",
              "      <td>0</td>\n",
              "      <td>87.96</td>\n",
              "      <td>39.2</td>\n",
              "      <td>0</td>\n",
              "    </tr>\n",
              "    <tr>\n",
              "      <th>2</th>\n",
              "      <td>8.0</td>\n",
              "      <td>0</td>\n",
              "      <td>0</td>\n",
              "      <td>110.89</td>\n",
              "      <td>17.6</td>\n",
              "      <td>0</td>\n",
              "    </tr>\n",
              "    <tr>\n",
              "      <th>3</th>\n",
              "      <td>70.0</td>\n",
              "      <td>0</td>\n",
              "      <td>0</td>\n",
              "      <td>69.04</td>\n",
              "      <td>35.9</td>\n",
              "      <td>0</td>\n",
              "    </tr>\n",
              "    <tr>\n",
              "      <th>4</th>\n",
              "      <td>14.0</td>\n",
              "      <td>0</td>\n",
              "      <td>0</td>\n",
              "      <td>161.28</td>\n",
              "      <td>19.1</td>\n",
              "      <td>0</td>\n",
              "    </tr>\n",
              "  </tbody>\n",
              "</table>\n",
              "</div>"
            ],
            "text/plain": [
              "    age  hypertension  heart_disease  avg_glucose_level   bmi  stroke\n",
              "0   3.0             0              0              95.12  18.0       0\n",
              "1  58.0             1              0              87.96  39.2       0\n",
              "2   8.0             0              0             110.89  17.6       0\n",
              "3  70.0             0              0              69.04  35.9       0\n",
              "4  14.0             0              0             161.28  19.1       0"
            ]
          },
          "metadata": {
            "tags": []
          },
          "execution_count": 9
        }
      ]
    },
    {
      "cell_type": "code",
      "metadata": {
        "colab": {
          "base_uri": "https://localhost:8080/",
          "height": 290
        },
        "id": "HNyOw83AQ3MG",
        "outputId": "9d04ac4e-6cae-4ee0-edca-c924b1c2c229"
      },
      "source": [
        "df_cont.describe()"
      ],
      "execution_count": 10,
      "outputs": [
        {
          "output_type": "execute_result",
          "data": {
            "text/html": [
              "<div>\n",
              "<style scoped>\n",
              "    .dataframe tbody tr th:only-of-type {\n",
              "        vertical-align: middle;\n",
              "    }\n",
              "\n",
              "    .dataframe tbody tr th {\n",
              "        vertical-align: top;\n",
              "    }\n",
              "\n",
              "    .dataframe thead th {\n",
              "        text-align: right;\n",
              "    }\n",
              "</style>\n",
              "<table border=\"1\" class=\"dataframe\">\n",
              "  <thead>\n",
              "    <tr style=\"text-align: right;\">\n",
              "      <th></th>\n",
              "      <th>age</th>\n",
              "      <th>hypertension</th>\n",
              "      <th>heart_disease</th>\n",
              "      <th>avg_glucose_level</th>\n",
              "      <th>bmi</th>\n",
              "      <th>stroke</th>\n",
              "    </tr>\n",
              "  </thead>\n",
              "  <tbody>\n",
              "    <tr>\n",
              "      <th>count</th>\n",
              "      <td>43400.000000</td>\n",
              "      <td>43400.000000</td>\n",
              "      <td>43400.000000</td>\n",
              "      <td>43400.000000</td>\n",
              "      <td>41938.000000</td>\n",
              "      <td>43400.000000</td>\n",
              "    </tr>\n",
              "    <tr>\n",
              "      <th>mean</th>\n",
              "      <td>42.217894</td>\n",
              "      <td>0.093571</td>\n",
              "      <td>0.047512</td>\n",
              "      <td>104.482750</td>\n",
              "      <td>28.605038</td>\n",
              "      <td>0.018041</td>\n",
              "    </tr>\n",
              "    <tr>\n",
              "      <th>std</th>\n",
              "      <td>22.519649</td>\n",
              "      <td>0.291235</td>\n",
              "      <td>0.212733</td>\n",
              "      <td>43.111751</td>\n",
              "      <td>7.770020</td>\n",
              "      <td>0.133103</td>\n",
              "    </tr>\n",
              "    <tr>\n",
              "      <th>min</th>\n",
              "      <td>0.080000</td>\n",
              "      <td>0.000000</td>\n",
              "      <td>0.000000</td>\n",
              "      <td>55.000000</td>\n",
              "      <td>10.100000</td>\n",
              "      <td>0.000000</td>\n",
              "    </tr>\n",
              "    <tr>\n",
              "      <th>25%</th>\n",
              "      <td>24.000000</td>\n",
              "      <td>0.000000</td>\n",
              "      <td>0.000000</td>\n",
              "      <td>77.540000</td>\n",
              "      <td>23.200000</td>\n",
              "      <td>0.000000</td>\n",
              "    </tr>\n",
              "    <tr>\n",
              "      <th>50%</th>\n",
              "      <td>44.000000</td>\n",
              "      <td>0.000000</td>\n",
              "      <td>0.000000</td>\n",
              "      <td>91.580000</td>\n",
              "      <td>27.700000</td>\n",
              "      <td>0.000000</td>\n",
              "    </tr>\n",
              "    <tr>\n",
              "      <th>75%</th>\n",
              "      <td>60.000000</td>\n",
              "      <td>0.000000</td>\n",
              "      <td>0.000000</td>\n",
              "      <td>112.070000</td>\n",
              "      <td>32.900000</td>\n",
              "      <td>0.000000</td>\n",
              "    </tr>\n",
              "    <tr>\n",
              "      <th>max</th>\n",
              "      <td>82.000000</td>\n",
              "      <td>1.000000</td>\n",
              "      <td>1.000000</td>\n",
              "      <td>291.050000</td>\n",
              "      <td>97.600000</td>\n",
              "      <td>1.000000</td>\n",
              "    </tr>\n",
              "  </tbody>\n",
              "</table>\n",
              "</div>"
            ],
            "text/plain": [
              "                age  hypertension  ...           bmi        stroke\n",
              "count  43400.000000  43400.000000  ...  41938.000000  43400.000000\n",
              "mean      42.217894      0.093571  ...     28.605038      0.018041\n",
              "std       22.519649      0.291235  ...      7.770020      0.133103\n",
              "min        0.080000      0.000000  ...     10.100000      0.000000\n",
              "25%       24.000000      0.000000  ...     23.200000      0.000000\n",
              "50%       44.000000      0.000000  ...     27.700000      0.000000\n",
              "75%       60.000000      0.000000  ...     32.900000      0.000000\n",
              "max       82.000000      1.000000  ...     97.600000      1.000000\n",
              "\n",
              "[8 rows x 6 columns]"
            ]
          },
          "metadata": {
            "tags": []
          },
          "execution_count": 10
        }
      ]
    },
    {
      "cell_type": "code",
      "metadata": {
        "colab": {
          "base_uri": "https://localhost:8080/"
        },
        "id": "1PRHKfttTXMi",
        "outputId": "8ba3efff-e961-46b9-f289-3cbc49b5485f"
      },
      "source": [
        "df.smoking_status.describe()"
      ],
      "execution_count": 11,
      "outputs": [
        {
          "output_type": "execute_result",
          "data": {
            "text/plain": [
              "count            30108\n",
              "unique               3\n",
              "top       never smoked\n",
              "freq             16053\n",
              "Name: smoking_status, dtype: object"
            ]
          },
          "metadata": {
            "tags": []
          },
          "execution_count": 11
        }
      ]
    },
    {
      "cell_type": "code",
      "metadata": {
        "colab": {
          "base_uri": "https://localhost:8080/",
          "height": 496
        },
        "id": "ZbsQFHLkT0nP",
        "outputId": "a47edf46-d9f7-4b84-875e-0154d17bce67"
      },
      "source": [
        "fig,(ax1,ax2,ax3,ax4) = plt.subplots(1,4,figsize=(15,5))\r\n",
        "\r\n",
        "sns.countplot(df.smoking_status,ax=ax1)\r\n",
        "sns.countplot(df.gender,ax=ax2)\r\n",
        "sns.countplot(df.ever_married,ax=ax3)\r\n",
        "sns.countplot(df.work_type,ax=ax4)\r\n",
        "plt.show()"
      ],
      "execution_count": 12,
      "outputs": [
        {
          "output_type": "stream",
          "text": [
            "/usr/local/lib/python3.6/dist-packages/seaborn/_decorators.py:43: FutureWarning: Pass the following variable as a keyword arg: x. From version 0.12, the only valid positional argument will be `data`, and passing other arguments without an explicit keyword will result in an error or misinterpretation.\n",
            "  FutureWarning\n",
            "/usr/local/lib/python3.6/dist-packages/seaborn/_decorators.py:43: FutureWarning: Pass the following variable as a keyword arg: x. From version 0.12, the only valid positional argument will be `data`, and passing other arguments without an explicit keyword will result in an error or misinterpretation.\n",
            "  FutureWarning\n",
            "/usr/local/lib/python3.6/dist-packages/seaborn/_decorators.py:43: FutureWarning: Pass the following variable as a keyword arg: x. From version 0.12, the only valid positional argument will be `data`, and passing other arguments without an explicit keyword will result in an error or misinterpretation.\n",
            "  FutureWarning\n",
            "/usr/local/lib/python3.6/dist-packages/seaborn/_decorators.py:43: FutureWarning: Pass the following variable as a keyword arg: x. From version 0.12, the only valid positional argument will be `data`, and passing other arguments without an explicit keyword will result in an error or misinterpretation.\n",
            "  FutureWarning\n"
          ],
          "name": "stderr"
        },
        {
          "output_type": "display_data",
          "data": {
            "image/png": "[encoded data removed]",
            "text/plain": [
              "<Figure size 1080x360 with 4 Axes>"
            ]
          },
          "metadata": {
            "tags": [],
            "needs_background": "light"
          }
        }
      ]
    },
    {
      "cell_type": "code",
      "metadata": {
        "colab": {
          "base_uri": "https://localhost:8080/",
          "height": 608
        },
        "id": "29PR0xLMVgW_",
        "outputId": "d72a5ede-ae07-4c34-bb79-fe37d98ec63a"
      },
      "source": [
        "freqgraph = df.select_dtypes(include=['float'])\r\n",
        "freqgraph.hist(figsize=(15,10))\r\n",
        "plt.show()"
      ],
      "execution_count": 13,
      "outputs": [
        {
          "output_type": "display_data",
          "data": {
            "image/png": "[encoded data removed]",
            "text/plain": [
              "<Figure size 1080x720 with 4 Axes>"
            ]
          },
          "metadata": {
            "tags": [],
            "needs_background": "light"
          }
        }
      ]
    },
    {
      "cell_type": "code",
      "metadata": {
        "colab": {
          "base_uri": "https://localhost:8080/"
        },
        "id": "E_pZd1cQdzaa",
        "outputId": "9c72a9c8-7542-4f1d-996f-b0ca1e2ab5a9"
      },
      "source": [
        "df.columns"
      ],
      "execution_count": 14,
      "outputs": [
        {
          "output_type": "execute_result",
          "data": {
            "text/plain": [
              "Index(['gender', 'age', 'hypertension', 'heart_disease', 'ever_married',\n",
              "       'work_type', 'Residence_type', 'avg_glucose_level', 'bmi',\n",
              "       'smoking_status', 'stroke'],\n",
              "      dtype='object')"
            ]
          },
          "metadata": {
            "tags": []
          },
          "execution_count": 14
        }
      ]
    },
    {
      "cell_type": "code",
      "metadata": {
        "colab": {
          "base_uri": "https://localhost:8080/",
          "height": 296
        },
        "id": "ZZFyQJqZdzjO",
        "outputId": "961d583b-75e0-45c8-b664-0fb8a84f8af8"
      },
      "source": [
        "sns.barplot(x=df.smoking_status,y=df.stroke)\r\n",
        "plt.title(\"smoking vs stroke\")\r\n",
        "plt.show()"
      ],
      "execution_count": 15,
      "outputs": [
        {
          "output_type": "display_data",
          "data": {
            "image/png": "[encoded data removed]",
            "text/plain": [
              "<Figure size 432x288 with 1 Axes>"
            ]
          },
          "metadata": {
            "tags": [],
            "needs_background": "light"
          }
        }
      ]
    },
    {
      "cell_type": "markdown",
      "metadata": {
        "id": "7llhzpG1uf29"
      },
      "source": [
        "**heart stroke occur more in smokers and people used to smoke than never smoked people**"
      ]
    },
    {
      "cell_type": "code",
      "metadata": {
        "colab": {
          "base_uri": "https://localhost:8080/",
          "height": 462
        },
        "id": "3mTQ0Iwldz2M",
        "outputId": "039f9487-1ba7-4ade-b163-b472ba5b8af5"
      },
      "source": [
        "fig, (ax1, ax2, ax3) = plt.subplots(1,3,figsize=(15,7))\r\n",
        "\r\n",
        "sns.barplot(x=\"stroke\", y=\"avg_glucose_level\", data=df,ax=ax1)\r\n",
        "sns.barplot(x=\"stroke\", y=\"bmi\", data=df,ax=ax2)\r\n",
        "sns.barplot(x=\"stroke\", y=\"age\", data=df,ax=ax3)"
      ],
      "execution_count": 16,
      "outputs": [
        {
          "output_type": "execute_result",
          "data": {
            "text/plain": [
              "<matplotlib.axes._subplots.AxesSubplot at 0x7fd04dc657f0>"
            ]
          },
          "metadata": {
            "tags": []
          },
          "execution_count": 16
        },
        {
          "output_type": "display_data",
          "data": {
            "image/png": "[encoded data removed]",
            "text/plain": [
              "<Figure size 1080x504 with 3 Axes>"
            ]
          },
          "metadata": {
            "tags": [],
            "needs_background": "light"
          }
        }
      ]
    },
    {
      "cell_type": "markdown",
      "metadata": {
        "id": "6XsojNojuIEH"
      },
      "source": [
        "**ageing can boost the chance of heart stroke, also high bmi and high glucose level lead to heart stroke**"
      ]
    },
    {
      "cell_type": "code",
      "metadata": {
        "colab": {
          "base_uri": "https://localhost:8080/",
          "height": 354
        },
        "id": "qIS9_fnmdz93",
        "outputId": "5e24b496-a6c0-4367-e525-0133061904bd"
      },
      "source": [
        "fig,(ax1,ax2) = plt.subplots(1,2,figsize=(15,5))\r\n",
        "\r\n",
        "sns.barplot(x=df.stroke,y=df.hypertension,ax=ax1)\r\n",
        "sns.barplot(x=df.stroke,y=df.heart_disease,ax=ax2)"
      ],
      "execution_count": 17,
      "outputs": [
        {
          "output_type": "execute_result",
          "data": {
            "text/plain": [
              "<matplotlib.axes._subplots.AxesSubplot at 0x7fd04db3fcf8>"
            ]
          },
          "metadata": {
            "tags": []
          },
          "execution_count": 17
        },
        {
          "output_type": "display_data",
          "data": {
            "image/png": "[encoded data removed]",
            "text/plain": [
              "<Figure size 1080x360 with 2 Axes>"
            ]
          },
          "metadata": {
            "tags": [],
            "needs_background": "light"
          }
        }
      ]
    },
    {
      "cell_type": "markdown",
      "metadata": {
        "id": "HaTNKMNstrpf"
      },
      "source": [
        "**Hypertension and Heart desease can cause heart stroke**"
      ]
    },
    {
      "cell_type": "code",
      "metadata": {
        "colab": {
          "base_uri": "https://localhost:8080/"
        },
        "id": "GaYnwCOdd0Dy",
        "outputId": "2f66b782-5379-4da6-ee66-8721d487f7b0"
      },
      "source": [
        "df.columns"
      ],
      "execution_count": 18,
      "outputs": [
        {
          "output_type": "execute_result",
          "data": {
            "text/plain": [
              "Index(['gender', 'age', 'hypertension', 'heart_disease', 'ever_married',\n",
              "       'work_type', 'Residence_type', 'avg_glucose_level', 'bmi',\n",
              "       'smoking_status', 'stroke'],\n",
              "      dtype='object')"
            ]
          },
          "metadata": {
            "tags": []
          },
          "execution_count": 18
        }
      ]
    },
    {
      "cell_type": "markdown",
      "metadata": {
        "id": "TDfA3Sahu7wM"
      },
      "source": [
        "**bi variate analysis by group by of pandas**"
      ]
    },
    {
      "cell_type": "markdown",
      "metadata": {
        "id": "ZKxVMpHOvlES"
      },
      "source": [
        "**heart stroke in urban vs rural people**"
      ]
    },
    {
      "cell_type": "code",
      "metadata": {
        "colab": {
          "base_uri": "https://localhost:8080/",
          "height": 108
        },
        "id": "1yFjvmz3d0Kb",
        "outputId": "3d7128ca-b311-4a2f-aad7-249e27f30b34"
      },
      "source": [
        "temp = df\r\n",
        "temp.stroke = temp.stroke.astype(int)\r\n",
        "res_type = df.groupby([\"Residence_type\"])['stroke'].agg(['sum','count']).reset_index()\r\n",
        "res_type['risk'] = res_type['sum'] / res_type['count'] * 100\r\n",
        "res_type"
      ],
      "execution_count": 19,
      "outputs": [
        {
          "output_type": "execute_result",
          "data": {
            "text/html": [
              "<div>\n",
              "<style scoped>\n",
              "    .dataframe tbody tr th:only-of-type {\n",
              "        vertical-align: middle;\n",
              "    }\n",
              "\n",
              "    .dataframe tbody tr th {\n",
              "        vertical-align: top;\n",
              "    }\n",
              "\n",
              "    .dataframe thead th {\n",
              "        text-align: right;\n",
              "    }\n",
              "</style>\n",
              "<table border=\"1\" class=\"dataframe\">\n",
              "  <thead>\n",
              "    <tr style=\"text-align: right;\">\n",
              "      <th></th>\n",
              "      <th>Residence_type</th>\n",
              "      <th>sum</th>\n",
              "      <th>count</th>\n",
              "      <th>risk</th>\n",
              "    </tr>\n",
              "  </thead>\n",
              "  <tbody>\n",
              "    <tr>\n",
              "      <th>0</th>\n",
              "      <td>Rural</td>\n",
              "      <td>384</td>\n",
              "      <td>21644</td>\n",
              "      <td>1.774164</td>\n",
              "    </tr>\n",
              "    <tr>\n",
              "      <th>1</th>\n",
              "      <td>Urban</td>\n",
              "      <td>399</td>\n",
              "      <td>21756</td>\n",
              "      <td>1.833977</td>\n",
              "    </tr>\n",
              "  </tbody>\n",
              "</table>\n",
              "</div>"
            ],
            "text/plain": [
              "  Residence_type  sum  count      risk\n",
              "0          Rural  384  21644  1.774164\n",
              "1          Urban  399  21756  1.833977"
            ]
          },
          "metadata": {
            "tags": []
          },
          "execution_count": 19
        }
      ]
    },
    {
      "cell_type": "markdown",
      "metadata": {
        "id": "P5XG0wWZtWXv"
      },
      "source": [
        "**Urban dwellers have high risk of heart stroke**"
      ]
    },
    {
      "cell_type": "markdown",
      "metadata": {
        "id": "EYqsYqtbvt6B"
      },
      "source": [
        "**Heart stroke in work category**"
      ]
    },
    {
      "cell_type": "code",
      "metadata": {
        "colab": {
          "base_uri": "https://localhost:8080/",
          "height": 199
        },
        "id": "S3f-bKfnd0Or",
        "outputId": "caf0b468-3503-458b-ea00-39c1a1c9be2b"
      },
      "source": [
        "temp = df\r\n",
        "work_type = df.groupby(['work_type'])[\"stroke\"].agg(['sum','count']).reset_index()\r\n",
        "work_type[\"risk\"] = work_type[\"sum\"]/work_type[\"count\"] *100\r\n",
        "work_type"
      ],
      "execution_count": 20,
      "outputs": [
        {
          "output_type": "execute_result",
          "data": {
            "text/html": [
              "<div>\n",
              "<style scoped>\n",
              "    .dataframe tbody tr th:only-of-type {\n",
              "        vertical-align: middle;\n",
              "    }\n",
              "\n",
              "    .dataframe tbody tr th {\n",
              "        vertical-align: top;\n",
              "    }\n",
              "\n",
              "    .dataframe thead th {\n",
              "        text-align: right;\n",
              "    }\n",
              "</style>\n",
              "<table border=\"1\" class=\"dataframe\">\n",
              "  <thead>\n",
              "    <tr style=\"text-align: right;\">\n",
              "      <th></th>\n",
              "      <th>work_type</th>\n",
              "      <th>sum</th>\n",
              "      <th>count</th>\n",
              "      <th>risk</th>\n",
              "    </tr>\n",
              "  </thead>\n",
              "  <tbody>\n",
              "    <tr>\n",
              "      <th>0</th>\n",
              "      <td>Govt_job</td>\n",
              "      <td>89</td>\n",
              "      <td>5440</td>\n",
              "      <td>1.636029</td>\n",
              "    </tr>\n",
              "    <tr>\n",
              "      <th>1</th>\n",
              "      <td>Never_worked</td>\n",
              "      <td>0</td>\n",
              "      <td>177</td>\n",
              "      <td>0.000000</td>\n",
              "    </tr>\n",
              "    <tr>\n",
              "      <th>2</th>\n",
              "      <td>Private</td>\n",
              "      <td>441</td>\n",
              "      <td>24834</td>\n",
              "      <td>1.775791</td>\n",
              "    </tr>\n",
              "    <tr>\n",
              "      <th>3</th>\n",
              "      <td>Self-employed</td>\n",
              "      <td>251</td>\n",
              "      <td>6793</td>\n",
              "      <td>3.694980</td>\n",
              "    </tr>\n",
              "    <tr>\n",
              "      <th>4</th>\n",
              "      <td>children</td>\n",
              "      <td>2</td>\n",
              "      <td>6156</td>\n",
              "      <td>0.032489</td>\n",
              "    </tr>\n",
              "  </tbody>\n",
              "</table>\n",
              "</div>"
            ],
            "text/plain": [
              "       work_type  sum  count      risk\n",
              "0       Govt_job   89   5440  1.636029\n",
              "1   Never_worked    0    177  0.000000\n",
              "2        Private  441  24834  1.775791\n",
              "3  Self-employed  251   6793  3.694980\n",
              "4       children    2   6156  0.032489"
            ]
          },
          "metadata": {
            "tags": []
          },
          "execution_count": 20
        }
      ]
    },
    {
      "cell_type": "markdown",
      "metadata": {
        "id": "HaMYLkRqxLv7"
      },
      "source": [
        "**People who are self employed has high risk of heart stroke,\r\n",
        "children are less prone to heart stroke**"
      ]
    },
    {
      "cell_type": "markdown",
      "metadata": {
        "id": "vzQcr_T8xu3N"
      },
      "source": [
        "**Heart stroke in Smoke_type**"
      ]
    },
    {
      "cell_type": "code",
      "metadata": {
        "colab": {
          "base_uri": "https://localhost:8080/",
          "height": 139
        },
        "id": "0Ez023asx4KE",
        "outputId": "8cf180a7-8233-41eb-ef49-9775758ff051"
      },
      "source": [
        "smoke_type = temp.groupby([\"smoking_status\"])[\"stroke\"].agg([\"sum\",\"count\"]).reset_index()\r\n",
        "smoke_type[\"risk\"] = smoke_type[\"sum\"]/smoke_type[\"count\"]*100\r\n",
        "smoke_type"
      ],
      "execution_count": 21,
      "outputs": [
        {
          "output_type": "execute_result",
          "data": {
            "text/html": [
              "<div>\n",
              "<style scoped>\n",
              "    .dataframe tbody tr th:only-of-type {\n",
              "        vertical-align: middle;\n",
              "    }\n",
              "\n",
              "    .dataframe tbody tr th {\n",
              "        vertical-align: top;\n",
              "    }\n",
              "\n",
              "    .dataframe thead th {\n",
              "        text-align: right;\n",
              "    }\n",
              "</style>\n",
              "<table border=\"1\" class=\"dataframe\">\n",
              "  <thead>\n",
              "    <tr style=\"text-align: right;\">\n",
              "      <th></th>\n",
              "      <th>smoking_status</th>\n",
              "      <th>sum</th>\n",
              "      <th>count</th>\n",
              "      <th>risk</th>\n",
              "    </tr>\n",
              "  </thead>\n",
              "  <tbody>\n",
              "    <tr>\n",
              "      <th>0</th>\n",
              "      <td>formerly smoked</td>\n",
              "      <td>221</td>\n",
              "      <td>7493</td>\n",
              "      <td>2.949419</td>\n",
              "    </tr>\n",
              "    <tr>\n",
              "      <th>1</th>\n",
              "      <td>never smoked</td>\n",
              "      <td>284</td>\n",
              "      <td>16053</td>\n",
              "      <td>1.769140</td>\n",
              "    </tr>\n",
              "    <tr>\n",
              "      <th>2</th>\n",
              "      <td>smokes</td>\n",
              "      <td>133</td>\n",
              "      <td>6562</td>\n",
              "      <td>2.026821</td>\n",
              "    </tr>\n",
              "  </tbody>\n",
              "</table>\n",
              "</div>"
            ],
            "text/plain": [
              "    smoking_status  sum  count      risk\n",
              "0  formerly smoked  221   7493  2.949419\n",
              "1     never smoked  284  16053  1.769140\n",
              "2           smokes  133   6562  2.026821"
            ]
          },
          "metadata": {
            "tags": []
          },
          "execution_count": 21
        }
      ]
    },
    {
      "cell_type": "markdown",
      "metadata": {
        "id": "Zpx1gFy3y5UA"
      },
      "source": [
        "**People who Never smoked are less prone to Heart strokes compared to people who smoke and used to smoke**"
      ]
    },
    {
      "cell_type": "markdown",
      "metadata": {
        "id": "65Rq4pKbtBdP"
      },
      "source": [
        "**Encoding**"
      ]
    },
    {
      "cell_type": "markdown",
      "metadata": {
        "id": "WQn5_iy3tIVe"
      },
      "source": [
        "**Label Encoding ever married column**"
      ]
    },
    {
      "cell_type": "code",
      "metadata": {
        "colab": {
          "base_uri": "https://localhost:8080/"
        },
        "id": "LZ_wZvJ1tHJ5",
        "outputId": "688a4795-8d84-4df8-da58-033a9df8404f"
      },
      "source": [
        "encoder = LabelEncoder()\r\n",
        "df.loc[:,[\"ever_married\"]] = encoder.fit_transform(df.loc[:,[\"ever_married\"]])"
      ],
      "execution_count": 22,
      "outputs": [
        {
          "output_type": "stream",
          "text": [
            "/usr/local/lib/python3.6/dist-packages/sklearn/preprocessing/_label.py:251: DataConversionWarning: A column-vector y was passed when a 1d array was expected. Please change the shape of y to (n_samples, ), for example using ravel().\n",
            "  y = column_or_1d(y, warn=True)\n"
          ],
          "name": "stderr"
        }
      ]
    },
    {
      "cell_type": "markdown",
      "metadata": {
        "id": "ahYVbn8ct5xV"
      },
      "source": [
        "**One hot Encoding**"
      ]
    },
    {
      "cell_type": "code",
      "metadata": {
        "id": "CfFKfjc2uBgQ"
      },
      "source": [
        "df = pd.get_dummies(df)"
      ],
      "execution_count": 23,
      "outputs": []
    },
    {
      "cell_type": "code",
      "metadata": {
        "colab": {
          "base_uri": "https://localhost:8080/",
          "height": 145
        },
        "id": "u7srg5MzuPb6",
        "outputId": "0cd3b569-d2e4-4508-ed56-e98b00b34d47"
      },
      "source": [
        "df.head(2)"
      ],
      "execution_count": 24,
      "outputs": [
        {
          "output_type": "execute_result",
          "data": {
            "text/html": [
              "<div>\n",
              "<style scoped>\n",
              "    .dataframe tbody tr th:only-of-type {\n",
              "        vertical-align: middle;\n",
              "    }\n",
              "\n",
              "    .dataframe tbody tr th {\n",
              "        vertical-align: top;\n",
              "    }\n",
              "\n",
              "    .dataframe thead th {\n",
              "        text-align: right;\n",
              "    }\n",
              "</style>\n",
              "<table border=\"1\" class=\"dataframe\">\n",
              "  <thead>\n",
              "    <tr style=\"text-align: right;\">\n",
              "      <th></th>\n",
              "      <th>age</th>\n",
              "      <th>hypertension</th>\n",
              "      <th>heart_disease</th>\n",
              "      <th>ever_married</th>\n",
              "      <th>avg_glucose_level</th>\n",
              "      <th>bmi</th>\n",
              "      <th>stroke</th>\n",
              "      <th>gender_Female</th>\n",
              "      <th>gender_Male</th>\n",
              "      <th>gender_Other</th>\n",
              "      <th>work_type_Govt_job</th>\n",
              "      <th>work_type_Never_worked</th>\n",
              "      <th>work_type_Private</th>\n",
              "      <th>work_type_Self-employed</th>\n",
              "      <th>work_type_children</th>\n",
              "      <th>Residence_type_Rural</th>\n",
              "      <th>Residence_type_Urban</th>\n",
              "      <th>smoking_status_formerly smoked</th>\n",
              "      <th>smoking_status_never smoked</th>\n",
              "      <th>smoking_status_smokes</th>\n",
              "    </tr>\n",
              "  </thead>\n",
              "  <tbody>\n",
              "    <tr>\n",
              "      <th>0</th>\n",
              "      <td>3.0</td>\n",
              "      <td>0</td>\n",
              "      <td>0</td>\n",
              "      <td>0</td>\n",
              "      <td>95.12</td>\n",
              "      <td>18.0</td>\n",
              "      <td>0</td>\n",
              "      <td>0</td>\n",
              "      <td>1</td>\n",
              "      <td>0</td>\n",
              "      <td>0</td>\n",
              "      <td>0</td>\n",
              "      <td>0</td>\n",
              "      <td>0</td>\n",
              "      <td>1</td>\n",
              "      <td>1</td>\n",
              "      <td>0</td>\n",
              "      <td>0</td>\n",
              "      <td>0</td>\n",
              "      <td>0</td>\n",
              "    </tr>\n",
              "    <tr>\n",
              "      <th>1</th>\n",
              "      <td>58.0</td>\n",
              "      <td>1</td>\n",
              "      <td>0</td>\n",
              "      <td>1</td>\n",
              "      <td>87.96</td>\n",
              "      <td>39.2</td>\n",
              "      <td>0</td>\n",
              "      <td>0</td>\n",
              "      <td>1</td>\n",
              "      <td>0</td>\n",
              "      <td>0</td>\n",
              "      <td>0</td>\n",
              "      <td>1</td>\n",
              "      <td>0</td>\n",
              "      <td>0</td>\n",
              "      <td>0</td>\n",
              "      <td>1</td>\n",
              "      <td>0</td>\n",
              "      <td>1</td>\n",
              "      <td>0</td>\n",
              "    </tr>\n",
              "  </tbody>\n",
              "</table>\n",
              "</div>"
            ],
            "text/plain": [
              "    age  hypertension  ...  smoking_status_never smoked  smoking_status_smokes\n",
              "0   3.0             0  ...                            0                      0\n",
              "1  58.0             1  ...                            1                      0\n",
              "\n",
              "[2 rows x 20 columns]"
            ]
          },
          "metadata": {
            "tags": []
          },
          "execution_count": 24
        }
      ]
    },
    {
      "cell_type": "markdown",
      "metadata": {
        "id": "_xt1d3vdedeA"
      },
      "source": [
        "**Filling missing values**"
      ]
    },
    {
      "cell_type": "code",
      "metadata": {
        "colab": {
          "base_uri": "https://localhost:8080/",
          "height": 265
        },
        "id": "5nBp94D7YViq",
        "outputId": "7b88ff30-7299-4af1-9e90-697defcf5b8b"
      },
      "source": [
        "plt.hist(df.bmi)\r\n",
        "plt.show()"
      ],
      "execution_count": 25,
      "outputs": [
        {
          "output_type": "display_data",
          "data": {
            "image/png": "[encoded data removed]",
            "text/plain": [
              "<Figure size 432x288 with 1 Axes>"
            ]
          },
          "metadata": {
            "tags": [],
            "needs_background": "light"
          }
        }
      ]
    },
    {
      "cell_type": "markdown",
      "metadata": {
        "id": "aOkDZ4MkfIqR"
      },
      "source": [
        "**since the \"bmi\" column is right skewed we use \"median\" to fill the missing values with the help of \"sklearn simple imputer library\"**"
      ]
    },
    {
      "cell_type": "code",
      "metadata": {
        "id": "vBi2ZvXiYVoR"
      },
      "source": [
        "imputer = SimpleImputer(missing_values=np.nan,strategy=\"median\")\r\n",
        "df.loc[:,[\"bmi\"]] = imputer.fit_transform(df.loc[:,[\"bmi\"]])\r\n"
      ],
      "execution_count": 26,
      "outputs": []
    },
    {
      "cell_type": "code",
      "metadata": {
        "colab": {
          "base_uri": "https://localhost:8080/"
        },
        "id": "pZy2g7HtYVqF",
        "outputId": "19d38d91-828f-4353-c860-b4f683b6c046"
      },
      "source": [
        "df.isnull().sum()"
      ],
      "execution_count": 27,
      "outputs": [
        {
          "output_type": "execute_result",
          "data": {
            "text/plain": [
              "age                               0\n",
              "hypertension                      0\n",
              "heart_disease                     0\n",
              "ever_married                      0\n",
              "avg_glucose_level                 0\n",
              "bmi                               0\n",
              "stroke                            0\n",
              "gender_Female                     0\n",
              "gender_Male                       0\n",
              "gender_Other                      0\n",
              "work_type_Govt_job                0\n",
              "work_type_Never_worked            0\n",
              "work_type_Private                 0\n",
              "work_type_Self-employed           0\n",
              "work_type_children                0\n",
              "Residence_type_Rural              0\n",
              "Residence_type_Urban              0\n",
              "smoking_status_formerly smoked    0\n",
              "smoking_status_never smoked       0\n",
              "smoking_status_smokes             0\n",
              "dtype: int64"
            ]
          },
          "metadata": {
            "tags": []
          },
          "execution_count": 27
        }
      ]
    },
    {
      "cell_type": "markdown",
      "metadata": {
        "id": "QHS-RqjgwOZy"
      },
      "source": [
        "**Filling missing values in \"smoking_status\" with KNN imputer of sklearn Library**"
      ]
    },
    {
      "cell_type": "code",
      "metadata": {
        "id": "iD0FM8lqYVuJ"
      },
      "source": [
        "knnimputer = KNNImputer(missing_values=np.nan,n_neighbors=5,metric='nan_euclidean')\r\n",
        "df.loc[:,[\"smoking_status_formerly smoked\",\"smoking_status_never smoked\",\"smoking_status_smokes\"]] = knnimputer.fit_transform(df.loc[:,[\"smoking_status_formerly smoked\",\"smoking_status_never smoked\",\"smoking_status_smokes\"]])"
      ],
      "execution_count": 28,
      "outputs": []
    },
    {
      "cell_type": "code",
      "metadata": {
        "colab": {
          "base_uri": "https://localhost:8080/"
        },
        "id": "I5epkpHFYVxt",
        "outputId": "352ecef1-6860-4be2-c2a3-fc23d8e706fd"
      },
      "source": [
        "df.isnull().sum()"
      ],
      "execution_count": 29,
      "outputs": [
        {
          "output_type": "execute_result",
          "data": {
            "text/plain": [
              "age                               0\n",
              "hypertension                      0\n",
              "heart_disease                     0\n",
              "ever_married                      0\n",
              "avg_glucose_level                 0\n",
              "bmi                               0\n",
              "stroke                            0\n",
              "gender_Female                     0\n",
              "gender_Male                       0\n",
              "gender_Other                      0\n",
              "work_type_Govt_job                0\n",
              "work_type_Never_worked            0\n",
              "work_type_Private                 0\n",
              "work_type_Self-employed           0\n",
              "work_type_children                0\n",
              "Residence_type_Rural              0\n",
              "Residence_type_Urban              0\n",
              "smoking_status_formerly smoked    0\n",
              "smoking_status_never smoked       0\n",
              "smoking_status_smokes             0\n",
              "dtype: int64"
            ]
          },
          "metadata": {
            "tags": []
          },
          "execution_count": 29
        }
      ]
    },
    {
      "cell_type": "code",
      "metadata": {
        "id": "w-2692ox03gW"
      },
      "source": [
        "X = df.drop([\"stroke\"],axis=1)"
      ],
      "execution_count": 30,
      "outputs": []
    },
    {
      "cell_type": "code",
      "metadata": {
        "id": "x5Xrjflf1BqH"
      },
      "source": [
        "y = df.stroke"
      ],
      "execution_count": 31,
      "outputs": []
    },
    {
      "cell_type": "markdown",
      "metadata": {
        "id": "9llM76cbxHiQ"
      },
      "source": [
        "checking Correlation"
      ]
    },
    {
      "cell_type": "code",
      "metadata": {
        "colab": {
          "base_uri": "https://localhost:8080/",
          "height": 644
        },
        "id": "tpn9smL3YTpa",
        "outputId": "24827f45-684c-4fe2-a8c0-7a442ec2dfd7"
      },
      "source": [
        "corrmetrix = df.corr()\r\n",
        "plt.figure(figsize=(15,8))\r\n",
        "sns.heatmap(corrmetrix,vmin=-.8,vmax=.8,annot=True)\r\n",
        "plt.show()\r\n"
      ],
      "execution_count": 32,
      "outputs": [
        {
          "output_type": "display_data",
          "data": {
            "image/png": "[encoded data removed]",
            "text/plain": [
              "<Figure size 1080x576 with 2 Axes>"
            ]
          },
          "metadata": {
            "tags": [],
            "needs_background": "light"
          }
        }
      ]
    },
    {
      "cell_type": "markdown",
      "metadata": {
        "id": "NxzFY9oE7UT8"
      },
      "source": [
        "**Spliting dataset into training and testing**"
      ]
    },
    {
      "cell_type": "code",
      "metadata": {
        "id": "9UHn17OF7bj7"
      },
      "source": [
        "X_train,X_test,y_train,y_test = train_test_split(X,y,test_size=.3,random_state=42)"
      ],
      "execution_count": 33,
      "outputs": []
    },
    {
      "cell_type": "code",
      "metadata": {
        "colab": {
          "base_uri": "https://localhost:8080/"
        },
        "id": "edt6yWTf7yui",
        "outputId": "6b661668-a9ad-437f-f0d4-067cc45ef194"
      },
      "source": [
        "X_train.shape,X_test.shape,y_train.shape,y_test.shape"
      ],
      "execution_count": 34,
      "outputs": [
        {
          "output_type": "execute_result",
          "data": {
            "text/plain": [
              "((30380, 19), (13020, 19), (30380,), (13020,))"
            ]
          },
          "metadata": {
            "tags": []
          },
          "execution_count": 34
        }
      ]
    },
    {
      "cell_type": "markdown",
      "metadata": {
        "id": "JuM6ydThzVsY"
      },
      "source": [
        "**Feature Scaling**"
      ]
    },
    {
      "cell_type": "markdown",
      "metadata": {
        "id": "AiKvy0-HzkId"
      },
      "source": [
        "**Standard scaler**"
      ]
    },
    {
      "cell_type": "code",
      "metadata": {
        "id": "_R-66_11yxtT"
      },
      "source": [
        "stdscaler = StandardScaler()\r\n",
        "X_train = stdscaler.fit_transform(X_train)\r\n",
        "X_test = stdscaler.transform(X_test)"
      ],
      "execution_count": 35,
      "outputs": []
    },
    {
      "cell_type": "markdown",
      "metadata": {
        "id": "HSAbkD8SBTnb"
      },
      "source": [
        "**Logistic Regression**"
      ]
    },
    {
      "cell_type": "code",
      "metadata": {
        "id": "hG1cx5h91VLE"
      },
      "source": [
        "logit_model = LogisticRegression()\r\n",
        "logit_model.fit(X_train,y_train)\r\n",
        "y_pred = logit_model.predict(X_test)"
      ],
      "execution_count": 36,
      "outputs": []
    },
    {
      "cell_type": "markdown",
      "metadata": {
        "id": "hmavpQEyBj3c"
      },
      "source": [
        "**Confusion metrics and Classification report**"
      ]
    },
    {
      "cell_type": "code",
      "metadata": {
        "colab": {
          "base_uri": "https://localhost:8080/"
        },
        "id": "WIvcbouc1daM",
        "outputId": "b0e4ec50-7034-4ffa-ec86-10b2d842ea49"
      },
      "source": [
        "print('Confusion_matrix is :\\n',confusion_matrix(y_test,y_pred))"
      ],
      "execution_count": 37,
      "outputs": [
        {
          "output_type": "stream",
          "text": [
            "Confusion_matrix is :\n",
            " [[12785     0]\n",
            " [  235     0]]\n"
          ],
          "name": "stdout"
        }
      ]
    },
    {
      "cell_type": "code",
      "metadata": {
        "colab": {
          "base_uri": "https://localhost:8080/"
        },
        "id": "7zhZI8sMBxqZ",
        "outputId": "d83066f3-46c8-463c-b51c-080e561d5d82"
      },
      "source": [
        "print('Classification report :\\n' ,classification_report(y_test,y_pred))"
      ],
      "execution_count": 38,
      "outputs": [
        {
          "output_type": "stream",
          "text": [
            "Classification report :\n",
            "               precision    recall  f1-score   support\n",
            "\n",
            "           0       0.98      1.00      0.99     12785\n",
            "           1       0.00      0.00      0.00       235\n",
            "\n",
            "    accuracy                           0.98     13020\n",
            "   macro avg       0.49      0.50      0.50     13020\n",
            "weighted avg       0.96      0.98      0.97     13020\n",
            "\n"
          ],
          "name": "stdout"
        },
        {
          "output_type": "stream",
          "text": [
            "/usr/local/lib/python3.6/dist-packages/sklearn/metrics/_classification.py:1272: UndefinedMetricWarning: Precision and F-score are ill-defined and being set to 0.0 in labels with no predicted samples. Use `zero_division` parameter to control this behavior.\n",
            "  _warn_prf(average, modifier, msg_start, len(result))\n"
          ],
          "name": "stderr"
        }
      ]
    },
    {
      "cell_type": "markdown",
      "metadata": {
        "id": "DHKcneQ_CVWN"
      },
      "source": [
        "**SVM**"
      ]
    },
    {
      "cell_type": "markdown",
      "metadata": {
        "id": "-lRxd-SUCgbR"
      },
      "source": [
        "**Linear SVM**"
      ]
    },
    {
      "cell_type": "code",
      "metadata": {
        "id": "5XIatBarCKOT"
      },
      "source": [
        "classifier = SVC(kernel=\"linear\",random_state=42,)\r\n",
        "classifier.fit(X_train,y_train)\r\n",
        "y_pred = classifier.predict(X_test)"
      ],
      "execution_count": 39,
      "outputs": []
    },
    {
      "cell_type": "markdown",
      "metadata": {
        "id": "yR8_hF9XDPPQ"
      },
      "source": [
        "**Confusion metrics and Classification report**"
      ]
    },
    {
      "cell_type": "code",
      "metadata": {
        "colab": {
          "base_uri": "https://localhost:8080/"
        },
        "id": "TnbHrso3DGXq",
        "outputId": "70fad09f-7501-445a-a3ca-ff46aa8cb7cb"
      },
      "source": [
        "print('Confusion_matrix is :\\n',confusion_matrix(y_test,y_pred))\r\n",
        "print('Classification report :\\n' ,classification_report(y_test,y_pred))\r\n"
      ],
      "execution_count": 40,
      "outputs": [
        {
          "output_type": "stream",
          "text": [
            "Confusion_matrix is :\n",
            " [[12785     0]\n",
            " [  235     0]]\n",
            "Classification report :\n",
            "               precision    recall  f1-score   support\n",
            "\n",
            "           0       0.98      1.00      0.99     12785\n",
            "           1       0.00      0.00      0.00       235\n",
            "\n",
            "    accuracy                           0.98     13020\n",
            "   macro avg       0.49      0.50      0.50     13020\n",
            "weighted avg       0.96      0.98      0.97     13020\n",
            "\n"
          ],
          "name": "stdout"
        },
        {
          "output_type": "stream",
          "text": [
            "/usr/local/lib/python3.6/dist-packages/sklearn/metrics/_classification.py:1272: UndefinedMetricWarning: Precision and F-score are ill-defined and being set to 0.0 in labels with no predicted samples. Use `zero_division` parameter to control this behavior.\n",
            "  _warn_prf(average, modifier, msg_start, len(result))\n"
          ],
          "name": "stderr"
        }
      ]
    },
    {
      "cell_type": "markdown",
      "metadata": {
        "id": "xzEni_NCD-Ya"
      },
      "source": [
        "**RBF**"
      ]
    },
    {
      "cell_type": "code",
      "metadata": {
        "id": "wOY3xOExDb_Z"
      },
      "source": [
        "svm_ra=SVC(kernel='rbf',random_state=42)\r\n",
        "svm_ra.fit(X_train,y_train)\r\n",
        "y_pred=svm_ra.predict(X_test)"
      ],
      "execution_count": 41,
      "outputs": []
    },
    {
      "cell_type": "markdown",
      "metadata": {
        "id": "o26VKv2XED7I"
      },
      "source": [
        "**confusion metrics and classification Report**"
      ]
    },
    {
      "cell_type": "code",
      "metadata": {
        "colab": {
          "base_uri": "https://localhost:8080/"
        },
        "id": "kfTRpoZRECKL",
        "outputId": "9ce959ee-d886-4bb4-da51-9dd91e6e4526"
      },
      "source": [
        "print('Confusion_matrix is :\\n',confusion_matrix(y_test,y_pred))\r\n",
        "print('Classification report :\\n' ,classification_report(y_test,y_pred))\r\n"
      ],
      "execution_count": 42,
      "outputs": [
        {
          "output_type": "stream",
          "text": [
            "Confusion_matrix is :\n",
            " [[12785     0]\n",
            " [  235     0]]\n",
            "Classification report :\n",
            "               precision    recall  f1-score   support\n",
            "\n",
            "           0       0.98      1.00      0.99     12785\n",
            "           1       0.00      0.00      0.00       235\n",
            "\n",
            "    accuracy                           0.98     13020\n",
            "   macro avg       0.49      0.50      0.50     13020\n",
            "weighted avg       0.96      0.98      0.97     13020\n",
            "\n"
          ],
          "name": "stdout"
        },
        {
          "output_type": "stream",
          "text": [
            "/usr/local/lib/python3.6/dist-packages/sklearn/metrics/_classification.py:1272: UndefinedMetricWarning: Precision and F-score are ill-defined and being set to 0.0 in labels with no predicted samples. Use `zero_division` parameter to control this behavior.\n",
            "  _warn_prf(average, modifier, msg_start, len(result))\n"
          ],
          "name": "stderr"
        }
      ]
    },
    {
      "cell_type": "markdown",
      "metadata": {
        "id": "L3QnpxC-Efkn"
      },
      "source": [
        "**Polinomial**"
      ]
    },
    {
      "cell_type": "code",
      "metadata": {
        "id": "EPhjbsVXEcOw"
      },
      "source": [
        "svm_po=SVC(kernel='poly',degree=3,random_state=42)\r\n",
        "svm_po.fit(X_train,y_train)\r\n",
        "y_pred=svm_po.predict(X_test)\r\n"
      ],
      "execution_count": 43,
      "outputs": []
    },
    {
      "cell_type": "markdown",
      "metadata": {
        "id": "YWDdNjAnExfS"
      },
      "source": [
        "**Confusion metrics,Accuracy score and Classification report**"
      ]
    },
    {
      "cell_type": "code",
      "metadata": {
        "colab": {
          "base_uri": "https://localhost:8080/"
        },
        "id": "XelZ7IBHEtgG",
        "outputId": "a818365a-74f1-44c2-e810-532444996740"
      },
      "source": [
        "print('Accuracy is :',accuracy_score(y_test,y_pred))\r\n",
        "print('Confusion_matrix is :\\n',confusion_matrix(y_test,y_pred))\r\n",
        "print('Classification report :\\n' ,classification_report(y_test,y_pred))\r\n"
      ],
      "execution_count": 44,
      "outputs": [
        {
          "output_type": "stream",
          "text": [
            "Accuracy is : 0.9819508448540707\n",
            "Confusion_matrix is :\n",
            " [[12785     0]\n",
            " [  235     0]]\n",
            "Classification report :\n",
            "               precision    recall  f1-score   support\n",
            "\n",
            "           0       0.98      1.00      0.99     12785\n",
            "           1       0.00      0.00      0.00       235\n",
            "\n",
            "    accuracy                           0.98     13020\n",
            "   macro avg       0.49      0.50      0.50     13020\n",
            "weighted avg       0.96      0.98      0.97     13020\n",
            "\n"
          ],
          "name": "stdout"
        },
        {
          "output_type": "stream",
          "text": [
            "/usr/local/lib/python3.6/dist-packages/sklearn/metrics/_classification.py:1272: UndefinedMetricWarning: Precision and F-score are ill-defined and being set to 0.0 in labels with no predicted samples. Use `zero_division` parameter to control this behavior.\n",
            "  _warn_prf(average, modifier, msg_start, len(result))\n"
          ],
          "name": "stderr"
        }
      ]
    },
    {
      "cell_type": "code",
      "metadata": {
        "id": "35i2ycZwFkKi"
      },
      "source": [
        ""
      ],
      "execution_count": 44,
      "outputs": []
    },
    {
      "cell_type": "markdown",
      "metadata": {
        "id": "4KWIBifeF3CV"
      },
      "source": [
        "**KNN**"
      ]
    },
    {
      "cell_type": "code",
      "metadata": {
        "id": "tupt8ez6F5dk"
      },
      "source": [
        "acc_values = []\r\n",
        "neighbors = np.arange(3,16)\r\n",
        "for i in neighbors:\r\n",
        "  classifier = KNeighborsClassifier(n_neighbors=i,metric='minkowski')\r\n",
        "  classifier.fit(X_train,y_train)\r\n",
        "  y_pred = classifier.predict(X_test)\r\n",
        "  acc = accuracy_score(y_test,y_pred)\r\n",
        "  acc_values.append(acc)\r\n",
        "  "
      ],
      "execution_count": 45,
      "outputs": []
    },
    {
      "cell_type": "code",
      "metadata": {
        "colab": {
          "base_uri": "https://localhost:8080/",
          "height": 265
        },
        "id": "i5uzm4xWHrKW",
        "outputId": "74045e35-9ef7-43ae-acec-7fb59eb3c040"
      },
      "source": [
        "plt.plot(range(3,16),acc_values,'-o')\r\n",
        "plt.show()"
      ],
      "execution_count": 46,
      "outputs": [
        {
          "output_type": "display_data",
          "data": {
            "image/png": "[encoded data removed]",
            "text/plain": [
              "<Figure size 432x288 with 1 Axes>"
            ]
          },
          "metadata": {
            "tags": [],
            "needs_background": "light"
          }
        }
      ]
    },
    {
      "cell_type": "code",
      "metadata": {
        "id": "pxuqihtCKBPa"
      },
      "source": [
        "classifier = KNeighborsClassifier(n_neighbors=10,metric='minkowski')\r\n",
        "classifier.fit(X_train,y_train)\r\n",
        "y_pred = classifier.predict(X_test)"
      ],
      "execution_count": 47,
      "outputs": []
    },
    {
      "cell_type": "markdown",
      "metadata": {
        "id": "62AKVBsdKbuY"
      },
      "source": [
        "**Confusion Metrics Accuracy score and classification report**"
      ]
    },
    {
      "cell_type": "code",
      "metadata": {
        "colab": {
          "base_uri": "https://localhost:8080/"
        },
        "id": "lNhcVE1_Ka5n",
        "outputId": "1701fc1d-66aa-4cc3-beec-4e62bf75cfa9"
      },
      "source": [
        "print('Accuracy is :',accuracy_score(y_test,y_pred))\r\n",
        "print('Confusion_matrix is :\\n',confusion_matrix(y_test,y_pred))\r\n",
        "print('Classification report :\\n' ,classification_report(y_test,y_pred))\r\n"
      ],
      "execution_count": 48,
      "outputs": [
        {
          "output_type": "stream",
          "text": [
            "Accuracy is : 0.9819508448540707\n",
            "Confusion_matrix is :\n",
            " [[12785     0]\n",
            " [  235     0]]\n",
            "Classification report :\n",
            "               precision    recall  f1-score   support\n",
            "\n",
            "           0       0.98      1.00      0.99     12785\n",
            "           1       0.00      0.00      0.00       235\n",
            "\n",
            "    accuracy                           0.98     13020\n",
            "   macro avg       0.49      0.50      0.50     13020\n",
            "weighted avg       0.96      0.98      0.97     13020\n",
            "\n"
          ],
          "name": "stdout"
        },
        {
          "output_type": "stream",
          "text": [
            "/usr/local/lib/python3.6/dist-packages/sklearn/metrics/_classification.py:1272: UndefinedMetricWarning: Precision and F-score are ill-defined and being set to 0.0 in labels with no predicted samples. Use `zero_division` parameter to control this behavior.\n",
            "  _warn_prf(average, modifier, msg_start, len(result))\n"
          ],
          "name": "stderr"
        }
      ]
    },
    {
      "cell_type": "markdown",
      "metadata": {
        "id": "Rq1r-G2YLoDI"
      },
      "source": [
        "**Maximum accuracy got with K values of 10**"
      ]
    },
    {
      "cell_type": "markdown",
      "metadata": {
        "id": "RRLq52bOLwCY"
      },
      "source": [
        "**Decision Tree**"
      ]
    },
    {
      "cell_type": "code",
      "metadata": {
        "colab": {
          "base_uri": "https://localhost:8080/"
        },
        "id": "ZDfbYNFDLRgm",
        "outputId": "3367bc4a-0f5b-408a-c93a-ec21aed355f6"
      },
      "source": [
        "clf = DecisionTreeClassifier(random_state=42)\r\n",
        "clf.fit(X_train,y_train)\r\n",
        "y_pred = clf.predict(X_test)\r\n",
        "print('Accuracy is :',accuracy_score(y_test,y_pred))\r\n",
        "print('Confusion_matrix is :\\n',confusion_matrix(y_test,y_pred))\r\n",
        "print('Classification report :\\n' ,classification_report(y_test,y_pred))\r\n",
        "\r\n",
        "\r\n"
      ],
      "execution_count": 49,
      "outputs": [
        {
          "output_type": "stream",
          "text": [
            "Accuracy is : 0.9627496159754224\n",
            "Confusion_matrix is :\n",
            " [[12520   265]\n",
            " [  220    15]]\n",
            "Classification report :\n",
            "               precision    recall  f1-score   support\n",
            "\n",
            "           0       0.98      0.98      0.98     12785\n",
            "           1       0.05      0.06      0.06       235\n",
            "\n",
            "    accuracy                           0.96     13020\n",
            "   macro avg       0.52      0.52      0.52     13020\n",
            "weighted avg       0.97      0.96      0.96     13020\n",
            "\n"
          ],
          "name": "stdout"
        }
      ]
    },
    {
      "cell_type": "markdown",
      "metadata": {
        "id": "lA-I76l5NH7N"
      },
      "source": [
        "**parameter tuning**"
      ]
    },
    {
      "cell_type": "code",
      "metadata": {
        "colab": {
          "base_uri": "https://localhost:8080/"
        },
        "id": "Z9hN3vp5M79a",
        "outputId": "90f3a6c1-e9fe-4879-c8b3-9363cfdcc6cb"
      },
      "source": [
        "clf = DecisionTreeClassifier(criterion='entropy',random_state=42,min_samples_split=5)\r\n",
        "clf.fit(X_train,y_train)\r\n",
        "y_pred = clf.predict(X_test)\r\n",
        "print('Accuracy is :',accuracy_score(y_test,y_pred))\r\n",
        "print('Confusion_matrix is :\\n',confusion_matrix(y_test,y_pred))\r\n",
        "print('Classification report :\\n' ,classification_report(y_test,y_pred))\r\n",
        "\r\n",
        "\r\n"
      ],
      "execution_count": 50,
      "outputs": [
        {
          "output_type": "stream",
          "text": [
            "Accuracy is : 0.9674347158218126\n",
            "Confusion_matrix is :\n",
            " [[12583   202]\n",
            " [  222    13]]\n",
            "Classification report :\n",
            "               precision    recall  f1-score   support\n",
            "\n",
            "           0       0.98      0.98      0.98     12785\n",
            "           1       0.06      0.06      0.06       235\n",
            "\n",
            "    accuracy                           0.97     13020\n",
            "   macro avg       0.52      0.52      0.52     13020\n",
            "weighted avg       0.97      0.97      0.97     13020\n",
            "\n"
          ],
          "name": "stdout"
        }
      ]
    },
    {
      "cell_type": "markdown",
      "metadata": {
        "id": "2_yN1KbZNuTp"
      },
      "source": [
        "**Random Forest Classifier**"
      ]
    },
    {
      "cell_type": "code",
      "metadata": {
        "colab": {
          "base_uri": "https://localhost:8080/"
        },
        "id": "bvuGeehFNP4O",
        "outputId": "d617595b-eb06-43aa-e71f-70cd798e1bf8"
      },
      "source": [
        "rf=RandomForestClassifier(random_state=42)\r\n",
        "rf.fit(X_train,y_train)\r\n",
        "y_pred=rf.predict(X_test)\r\n",
        "print('Accuracy is',accuracy_score(y_test,y_pred))\r\n",
        "print('Confusion_matrix is :\\n',confusion_matrix(y_test,y_pred))\r\n",
        "print('Classification report :\\n' ,classification_report(y_test,y_pred))"
      ],
      "execution_count": 51,
      "outputs": [
        {
          "output_type": "stream",
          "text": [
            "Accuracy is 0.9817204301075269\n",
            "Confusion_matrix is :\n",
            " [[12782     3]\n",
            " [  235     0]]\n",
            "Classification report :\n",
            "               precision    recall  f1-score   support\n",
            "\n",
            "           0       0.98      1.00      0.99     12785\n",
            "           1       0.00      0.00      0.00       235\n",
            "\n",
            "    accuracy                           0.98     13020\n",
            "   macro avg       0.49      0.50      0.50     13020\n",
            "weighted avg       0.96      0.98      0.97     13020\n",
            "\n"
          ],
          "name": "stdout"
        }
      ]
    },
    {
      "cell_type": "markdown",
      "metadata": {
        "id": "1eKsPJP8OmEm"
      },
      "source": [
        "**Parameter Tuning**"
      ]
    },
    {
      "cell_type": "code",
      "metadata": {
        "colab": {
          "base_uri": "https://localhost:8080/"
        },
        "id": "BVAS57PKNRF3",
        "outputId": "afbbbab9-0de1-4094-f29c-e1d0166cd66e"
      },
      "source": [
        "rf=RandomForestClassifier(n_estimators=25,criterion=\"entropy\",random_state=42)\r\n",
        "rf.fit(X_train,y_train)\r\n",
        "y_pred=rf.predict(X_test)\r\n",
        "print('Accuracy is',accuracy_score(y_test,y_pred))\r\n",
        "print('Confusion_matrix is :\\n',confusion_matrix(y_test,y_pred))\r\n",
        "print('Classification report :\\n' ,classification_report(y_test,y_pred))"
      ],
      "execution_count": 52,
      "outputs": [
        {
          "output_type": "stream",
          "text": [
            "Accuracy is 0.9816436251920123\n",
            "Confusion_matrix is :\n",
            " [[12779     6]\n",
            " [  233     2]]\n",
            "Classification report :\n",
            "               precision    recall  f1-score   support\n",
            "\n",
            "           0       0.98      1.00      0.99     12785\n",
            "           1       0.25      0.01      0.02       235\n",
            "\n",
            "    accuracy                           0.98     13020\n",
            "   macro avg       0.62      0.50      0.50     13020\n",
            "weighted avg       0.97      0.98      0.97     13020\n",
            "\n"
          ],
          "name": "stdout"
        }
      ]
    },
    {
      "cell_type": "markdown",
      "metadata": {
        "id": "UojHe74DO-Cc"
      },
      "source": [
        "**Gradient Boost**"
      ]
    },
    {
      "cell_type": "code",
      "metadata": {
        "colab": {
          "base_uri": "https://localhost:8080/"
        },
        "id": "IUXFzzvPNRJE",
        "outputId": "b8c5a6e0-aeda-412a-d782-7e6e546ec004"
      },
      "source": [
        "classifier = GradientBoostingClassifier(random_state=42)\r\n",
        "classifier.fit(X_train,y_train)\r\n",
        "y_pred = classifier.predict(X_test)\r\n",
        "print('Accuracy is',accuracy_score(y_test,y_pred))\r\n",
        "print('Confusion_matrix is :\\n',confusion_matrix(y_test,y_pred))\r\n",
        "print('Classification report :\\n' ,classification_report(y_test,y_pred))\r\n"
      ],
      "execution_count": 53,
      "outputs": [
        {
          "output_type": "stream",
          "text": [
            "Accuracy is 0.9815668202764977\n",
            "Confusion_matrix is :\n",
            " [[12779     6]\n",
            " [  234     1]]\n",
            "Classification report :\n",
            "               precision    recall  f1-score   support\n",
            "\n",
            "           0       0.98      1.00      0.99     12785\n",
            "           1       0.14      0.00      0.01       235\n",
            "\n",
            "    accuracy                           0.98     13020\n",
            "   macro avg       0.56      0.50      0.50     13020\n",
            "weighted avg       0.97      0.98      0.97     13020\n",
            "\n"
          ],
          "name": "stdout"
        }
      ]
    },
    {
      "cell_type": "markdown",
      "metadata": {
        "id": "ci-d5V8ARTXM"
      },
      "source": [
        "**XG boost**"
      ]
    },
    {
      "cell_type": "code",
      "metadata": {
        "colab": {
          "base_uri": "https://localhost:8080/"
        },
        "id": "9O2G-9fRNRUs",
        "outputId": "63463aec-b7f8-4ee7-d695-701450287bc0"
      },
      "source": [
        "xgbc = XGBClassifier(random_state=42)\r\n",
        "xgbc.fit(X_train,y_train)\r\n",
        "y_pred = xgbc.predict(X_test)\r\n",
        "print('Accuracy is',accuracy_score(y_test,y_pred))\r\n",
        "print('Confusion_matrix is :\\n',confusion_matrix(y_test,y_pred))\r\n",
        "print('Classification report :\\n' ,classification_report(y_test,y_pred))"
      ],
      "execution_count": 54,
      "outputs": [
        {
          "output_type": "stream",
          "text": [
            "Accuracy is 0.9819508448540707\n",
            "Confusion_matrix is :\n",
            " [[12785     0]\n",
            " [  235     0]]\n",
            "Classification report :\n",
            "               precision    recall  f1-score   support\n",
            "\n",
            "           0       0.98      1.00      0.99     12785\n",
            "           1       0.00      0.00      0.00       235\n",
            "\n",
            "    accuracy                           0.98     13020\n",
            "   macro avg       0.49      0.50      0.50     13020\n",
            "weighted avg       0.96      0.98      0.97     13020\n",
            "\n"
          ],
          "name": "stdout"
        },
        {
          "output_type": "stream",
          "text": [
            "/usr/local/lib/python3.6/dist-packages/sklearn/metrics/_classification.py:1272: UndefinedMetricWarning: Precision and F-score are ill-defined and being set to 0.0 in labels with no predicted samples. Use `zero_division` parameter to control this behavior.\n",
            "  _warn_prf(average, modifier, msg_start, len(result))\n"
          ],
          "name": "stderr"
        }
      ]
    },
    {
      "cell_type": "markdown",
      "metadata": {
        "id": "8t2V83P10tlW"
      },
      "source": [
        "**Decision Tree with Parameter tuning gave most accurate prediction**"
      ]
    }
  ]
}